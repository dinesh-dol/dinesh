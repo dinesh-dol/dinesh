{
 "cells": [
  {
   "cell_type": "code",
   "execution_count": 19,
   "metadata": {},
   "outputs": [
    {
     "name": "stdout",
     "output_type": "stream",
     "text": [
      "enter the a namuber25\n",
      "enter the b namber25\n",
      "enter the c namber25\n",
      "c is max\n"
     ]
    }
   ],
   "source": [
    "\n",
    "a = input('enter the a namuber')\n",
    "b = input('enter the b namber')\n",
    "c = input('enter the c namber')\n",
    "if a>b:\n",
    "    if a>c:\n",
    "        print(\"a is max\")\n",
    "    else:\n",
    "        print(\"c is max\")\n",
    "    \n",
    "elif b>c:\n",
    "    print(\"b is max\")\n",
    "else: \n",
    "    print (\"c is max\")"
   ]
  },
  {
   "cell_type": "code",
   "execution_count": 20,
   "metadata": {},
   "outputs": [
    {
     "name": "stdout",
     "output_type": "stream",
     "text": [
      "Sum of 15 and 12 is 27\n"
     ]
    }
   ],
   "source": [
    "num1 = 15\n",
    "num2 = 12\n",
    "\n",
    "# Adding two nos \n",
    "sum = num1 + num2 \n",
    "\n",
    "# printing values \n",
    "print(\"Sum of {0} and {1} is {2}\" .format(num1, num2, sum)) \n"
   ]
  },
  {
   "cell_type": "code",
   "execution_count": 23,
   "metadata": {},
   "outputs": [
    {
     "ename": "SyntaxError",
     "evalue": "invalid syntax (<ipython-input-23-a528dd245851>, line 3)",
     "output_type": "error",
     "traceback": [
      "\u001b[1;36m  File \u001b[1;32m\"<ipython-input-23-a528dd245851>\"\u001b[1;36m, line \u001b[1;32m3\u001b[0m\n\u001b[1;33m    print (you are eligble for loan )\u001b[0m\n\u001b[1;37m                 ^\u001b[0m\n\u001b[1;31mSyntaxError\u001b[0m\u001b[1;31m:\u001b[0m invalid syntax\n"
     ]
    }
   ],
   "source": [
    "age =int(input('enter your  age: '))\n",
    "if age > 18 :    \n",
    "    print (you are eligble for loan )\n",
    "      a =int(input('enter goverment or privet'))\n",
    "        print (a)"
   ]
  },
  {
   "cell_type": "code",
   "execution_count": 25,
   "metadata": {},
   "outputs": [
    {
     "name": "stdout",
     "output_type": "stream",
     "text": [
      "all are even 2\n",
      "all are even 4\n",
      "all are even 6\n",
      "all are even 8\n"
     ]
    }
   ],
   "source": [
    "for var in range(1,10):\n",
    "     if var %2 == 0:\n",
    "            print('all are even',var)"
   ]
  },
  {
   "cell_type": "code",
   "execution_count": 26,
   "metadata": {},
   "outputs": [
    {
     "name": "stdout",
     "output_type": "stream",
     "text": [
      "enter a namber :15\n",
      "your give is even\n"
     ]
    }
   ],
   "source": [
    "num = int(input('enter a namber :'))\n",
    "if num % 2==0:\n",
    "    print('your given is odd')\n",
    "else:\n",
    "    print('your give is even')"
   ]
  },
  {
   "cell_type": "code",
   "execution_count": 33,
   "metadata": {},
   "outputs": [
    {
     "ename": "SyntaxError",
     "evalue": "invalid syntax (<ipython-input-33-d05ac4fc8787>, line 2)",
     "output_type": "error",
     "traceback": [
      "\u001b[1;36m  File \u001b[1;32m\"<ipython-input-33-d05ac4fc8787>\"\u001b[1;36m, line \u001b[1;32m2\u001b[0m\n\u001b[1;33m    f = \"\".join(f.split())\u001b[0m\n\u001b[1;37m    ^\u001b[0m\n\u001b[1;31mSyntaxError\u001b[0m\u001b[1;31m:\u001b[0m invalid syntax\n"
     ]
    }
   ],
   "source": [
    "a = str(input(\"enter foo or bar\").strip().lower()\n",
    "f = \"\".join(f.split())\n",
    "if f == \"foo\"\n",
    "        print(\"bar\")\n",
    "elif if f == \"bar\"\n",
    "    print(\"foo\")\n"
   ]
  },
  {
   "cell_type": "code",
   "execution_count": 7,
   "metadata": {},
   "outputs": [
    {
     "name": "stdout",
     "output_type": "stream",
     "text": [
      "she was beautiful and she was good dancer\n",
      "4\n",
      "25\n"
     ]
    }
   ],
   "source": [
    "string = \"she is beautiful and she is good dancer\"\n",
    "print(string.replace(\"is\",\"was\",2))\n",
    "print(string.find(\"is\"))\n",
    "print(string.find(\"is\",5))"
   ]
  },
  {
   "cell_type": "code",
   "execution_count": 1,
   "metadata": {},
   "outputs": [
    {
     "name": "stdout",
     "output_type": "stream",
     "text": [
      "sachin ,ajay,jeet,vipul\n"
     ]
    }
   ],
   "source": [
    "a = [\"sachin ,ajay,jeet,vipul\"]\n",
    "print(*a)"
   ]
  },
  {
   "cell_type": "code",
   "execution_count": 18,
   "metadata": {},
   "outputs": [
    {
     "name": "stdout",
     "output_type": "stream",
     "text": [
      "d\n",
      "i\n"
     ]
    }
   ],
   "source": [
    "name = \"dinesh\"\n",
    "for i in name:\n",
    "    if i == \"n\":\n",
    "         break\n",
    "    print(i)"
   ]
  },
  {
   "cell_type": "code",
   "execution_count": 23,
   "metadata": {},
   "outputs": [
    {
     "name": "stdout",
     "output_type": "stream",
     "text": [
      "d\n",
      "v\n",
      "c\n",
      "i\n",
      "e\n",
      "s\n",
      "h\n"
     ]
    }
   ],
   "source": [
    "name = \"dvcinesh\"\n",
    "for i in name :\n",
    "    if i == \"n\":\n",
    "        continue\n",
    "    print(i)"
   ]
  },
  {
   "cell_type": "code",
   "execution_count": 33,
   "metadata": {},
   "outputs": [
    {
     "name": "stdout",
     "output_type": "stream",
     "text": [
      "hello world\n",
      "hello world\n",
      "hello world\n",
      "hello world\n",
      "hello world\n",
      "hello world\n",
      "hello world\n",
      "hello world\n",
      "hello world\n",
      "hello world\n",
      "hello world\n"
     ]
    }
   ],
   "source": [
    "d = 0\n",
    "while d <= 10:\n",
    "    d += 1\n",
    "    print(\"hello world\")\n"
   ]
  },
  {
   "cell_type": "code",
   "execution_count": 3,
   "metadata": {},
   "outputs": [
    {
     "name": "stdout",
     "output_type": "stream",
     "text": [
      "True\n",
      "False\n"
     ]
    }
   ],
   "source": [
    "def is_pali(word):\n",
    "    return word == word[::-1]\n",
    "print(is_pali(\"naman\"))\n",
    "print(is_pali(\"horse\"))"
   ]
  }
 ],
 "metadata": {
  "kernelspec": {
   "display_name": "Python 3",
   "language": "python",
   "name": "python3"
  },
  "language_info": {
   "codemirror_mode": {
    "name": "ipython",
    "version": 3
   },
   "file_extension": ".py",
   "mimetype": "text/x-python",
   "name": "python",
   "nbconvert_exporter": "python",
   "pygments_lexer": "ipython3",
   "version": "3.6.5"
  }
 },
 "nbformat": 4,
 "nbformat_minor": 2
}
