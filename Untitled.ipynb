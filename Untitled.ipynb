{
 "cells": [
  {
   "cell_type": "code",
   "execution_count": 1,
   "metadata": {},
   "outputs": [
    {
     "name": "stdout",
     "output_type": "stream",
     "text": [
      "3\n"
     ]
    }
   ],
   "source": [
    "a = 3\n",
    "print (a)\n"
   ]
  },
  {
   "cell_type": "code",
   "execution_count": 3,
   "metadata": {},
   "outputs": [
    {
     "name": "stdout",
     "output_type": "stream",
     "text": [
      "3\n"
     ]
    }
   ],
   "source": [
    "print (3)\n"
   ]
  },
  {
   "cell_type": "code",
   "execution_count": 4,
   "metadata": {},
   "outputs": [
    {
     "name": "stdout",
     "output_type": "stream",
     "text": [
      "hello world\n"
     ]
    }
   ],
   "source": [
    "print ('hello world')"
   ]
  },
  {
   "cell_type": "code",
   "execution_count": 3,
   "metadata": {},
   "outputs": [],
   "source": [
    "import random"
   ]
  },
  {
   "cell_type": "code",
   "execution_count": 4,
   "metadata": {},
   "outputs": [],
   "source": [
    "a = [random.randint(1,100) for var in range(100)]"
   ]
  },
  {
   "cell_type": "code",
   "execution_count": 5,
   "metadata": {},
   "outputs": [
    {
     "name": "stdout",
     "output_type": "stream",
     "text": [
      "[26, 69, 47, 66, 73, 83, 4, 86, 98, 40, 16, 94, 100, 56, 42, 2, 83, 81, 15, 10, 55, 95, 99, 16, 26, 21, 10, 13, 4, 69, 5, 21, 49, 24, 36, 55, 80, 88, 74, 88, 13, 59, 4, 76, 73, 51, 41, 7, 90, 97, 14, 68, 96, 62, 89, 98, 2, 99, 22, 90, 64, 57, 95, 35, 49, 3, 17, 90, 100, 99, 78, 84, 40, 64, 22, 1, 33, 6, 58, 11, 74, 60, 53, 67, 27, 55, 47, 88, 46, 92, 23, 45, 34, 43, 65, 32, 95, 24, 80, 80]\n"
     ]
    }
   ],
   "source": [
    "print(a)"
   ]
  },
  {
   "cell_type": "code",
   "execution_count": 9,
   "metadata": {},
   "outputs": [
    {
     "name": "stdout",
     "output_type": "stream",
     "text": [
      "[94, 77, 77, 100, 20, 85, 86, 65, 3, 65, 58, 79, 83, 17, 1, 61, 88, 27, 12, 32, 91, 9, 63, 60, 97, 17, 5, 46, 53, 2, 37, 78, 88, 86, 70, 26, 74, 46, 1, 73, 29, 50, 32, 5, 39]\n"
     ]
    }
   ],
   "source": [
    "import random\n",
    "b = [random.randint(1,100) for dha in range(45)]\n",
    "print (b)"
   ]
  },
  {
   "cell_type": "code",
   "execution_count": 10,
   "metadata": {},
   "outputs": [],
   "source": [
    "import random \n",
    "b = [random.randint(1,5000) for Dinu in range (1000)]"
   ]
  },
  {
   "cell_type": "code",
   "execution_count": 11,
   "metadata": {},
   "outputs": [
    {
     "name": "stdout",
     "output_type": "stream",
     "text": [
      "[628, 2747, 3436, 2703, 2644, 3552, 4505, 1673, 1478, 110, 1906, 4938, 596, 1298, 1457, 442, 4396, 2711, 776, 3364, 461, 378, 1796, 1827, 4688, 4597, 4623, 4393, 3557, 1108, 3273, 4874, 1058, 3059, 4056, 2156, 4353, 1927, 4562, 1641, 2890, 847, 1363, 3201, 4310, 3871, 243, 2707, 3624, 2177, 3060, 2234, 3115, 4235, 4523, 4001, 4126, 4704, 643, 4783, 1127, 1413, 3673, 1841, 1141, 1481, 431, 1376, 2125, 930, 3873, 2846, 777, 2866, 4814, 927, 3838, 1228, 4188, 4599, 3894, 2196, 2153, 3745, 2742, 612, 4289, 4986, 3057, 264, 2242, 3603, 1298, 3354, 3585, 4178, 2792, 4465, 602, 2658, 4803, 2407, 2463, 3587, 4503, 1547, 1014, 1164, 2584, 1323, 278, 277, 4403, 3316, 1799, 4689, 893, 1587, 4486, 1140, 486, 4850, 2034, 3752, 2701, 2067, 4300, 4384, 983, 628, 741, 2527, 3457, 390, 4964, 2879, 849, 2397, 4575, 2759, 2384, 1136, 3829, 57, 90, 3781, 3529, 4924, 3921, 270, 4305, 4788, 2683, 4831, 1919, 632, 1564, 4266, 1410, 4373, 2969, 916, 1609, 136, 2473, 1176, 1664, 723, 427, 4775, 1474, 895, 2090, 2798, 1560, 2015, 2013, 1546, 3321, 4238, 2060, 2300, 3541, 3719, 1324, 1019, 4182, 1024, 909, 3316, 3478, 1215, 3527, 301, 2011, 475, 2053, 3057, 498, 3673, 3832, 3285, 4513, 3007, 3415, 2414, 1770, 884, 1683, 1540, 3310, 4094, 515, 2136, 409, 3464, 4894, 2599, 891, 71, 3994, 4375, 235, 3213, 635, 4676, 3562, 912, 3231, 3968, 4728, 4838, 2125, 2187, 1361, 1008, 1846, 1632, 2033, 2519, 4523, 982, 324, 2849, 1901, 1437, 2961, 814, 2457, 127, 1384, 1055, 116, 3010, 3965, 608, 3616, 4683, 1189, 1950, 2184, 997, 843, 934, 171, 2801, 3515, 3860, 111, 4799, 2195, 2167, 4173, 4883, 4318, 2014, 1210, 4804, 621, 3093, 250, 1480, 613, 1928, 4954, 4330, 1168, 4170, 4212, 4513, 172, 552, 4078, 2922, 4404, 225, 939, 4579, 3761, 2955, 3584, 971, 3063, 4738, 1088, 4048, 88, 3317, 1603, 467, 4822, 2317, 4149, 3766, 109, 2179, 2793, 3955, 3414, 4986, 1414, 3131, 297, 11, 4721, 3646, 2262, 4862, 2347, 1091, 915, 1943, 4791, 2028, 101, 2625, 4140, 2078, 3037, 1873, 2046, 1247, 3170, 3423, 4308, 1020, 4831, 2271, 4411, 4825, 3149, 579, 4840, 2366, 4924, 1165, 64, 3425, 2166, 4989, 4699, 2194, 2651, 2947, 3692, 2298, 59, 3369, 280, 1265, 4061, 4397, 2791, 2218, 1078, 1993, 222, 2602, 4079, 2207, 2325, 37, 4709, 2987, 673, 4125, 2631, 964, 3469, 3884, 3971, 3192, 147, 1235, 1750, 1171, 3409, 229, 2098, 2515, 3596, 3874, 4367, 291, 1827, 838, 270, 3375, 1108, 2160, 3432, 3303, 3447, 1088, 144, 1163, 4001, 4429, 4829, 2539, 1385, 3713, 2565, 202, 923, 1266, 3456, 4181, 3927, 2181, 2575, 1209, 2185, 2634, 3542, 904, 1660, 4545, 1310, 1625, 1179, 3253, 1442, 840, 4168, 516, 1066, 416, 1649, 2963, 4475, 3812, 4165, 496, 2158, 3722, 2280, 3279, 4951, 1008, 2921, 2805, 2204, 161, 1133, 1393, 1539, 241, 3179, 294, 382, 1307, 2996, 2117, 3686, 4464, 3690, 4610, 3244, 3270, 2815, 1324, 2542, 3507, 1057, 2129, 776, 2235, 2648, 2975, 4283, 2253, 1678, 3952, 1226, 4280, 2013, 942, 502, 164, 3997, 3271, 4816, 489, 4337, 4882, 3173, 3183, 3257, 3034, 2902, 73, 872, 530, 2235, 3650, 2533, 1632, 4217, 336, 3321, 2102, 1754, 3999, 1953, 4359, 43, 3251, 2984, 1124, 1266, 206, 2690, 3846, 2869, 2572, 4076, 1525, 4009, 951, 2637, 2466, 1790, 4627, 3627, 4991, 4764, 1997, 1268, 4213, 840, 3558, 4493, 4110, 4057, 3110, 1827, 2162, 1304, 135, 717, 539, 2144, 2553, 3750, 914, 3335, 3112, 4105, 2521, 50, 483, 532, 842, 4155, 3395, 822, 4309, 3014, 4040, 4642, 849, 1948, 1544, 4917, 1652, 3724, 4629, 2732, 2494, 1521, 3812, 2464, 2222, 1009, 1092, 2572, 2550, 1488, 4937, 4005, 4216, 906, 4273, 3878, 726, 226, 2245, 629, 2920, 4695, 4162, 3047, 2697, 2730, 1925, 4887, 668, 568, 911, 4041, 1997, 2081, 543, 2327, 154, 2780, 3423, 2004, 3162, 1113, 4321, 3990, 3010, 4579, 3101, 2573, 775, 2618, 286, 3982, 2608, 3141, 4610, 3603, 515, 1168, 766, 218, 2590, 238, 4672, 3493, 143, 1717, 1204, 84, 4580, 4701, 4960, 985, 2498, 3312, 3804, 4480, 44, 1832, 3634, 2669, 3170, 4390, 1398, 1940, 682, 2644, 133, 2827, 4234, 4381, 1812, 1497, 1171, 3084, 2644, 3987, 3957, 3995, 207, 712, 1876, 774, 3216, 2570, 3076, 1551, 31, 466, 4523, 2321, 4532, 3296, 778, 4644, 2636, 4791, 3151, 1150, 119, 4341, 1780, 1439, 3184, 809, 205, 2198, 2044, 1933, 2477, 766, 1963, 2587, 2226, 1921, 1741, 1446, 137, 3043, 2188, 710, 694, 2672, 4791, 3208, 4305, 2504, 1976, 2827, 4350, 1230, 3646, 4349, 972, 1826, 4406, 42, 1727, 4892, 4267, 139, 4766, 592, 3709, 730, 325, 1772, 1607, 4988, 4103, 4772, 276, 2481, 4979, 3092, 1881, 4913, 469, 822, 2562, 753, 1670, 1627, 2566, 2441, 3067, 570, 2048, 4293, 4103, 4748, 3485, 2883, 3856, 76, 1228, 1036, 1096, 3150, 4431, 488, 4487, 882, 86, 4428, 1999, 3945, 3460, 1178, 3449, 3496, 1222, 4389, 4682, 1956, 2211, 1563, 2973, 1567, 3184, 1332, 566, 1592, 3315, 931, 2215, 1, 3373, 3211, 1859, 2117, 4778, 2018, 2200, 3932, 798, 1075, 1998, 2742, 994, 3153, 1040, 1322, 2665, 4046, 4328, 4944, 1667, 4954, 1328, 4470, 2988, 823, 842, 3214, 2135, 3249, 816, 450, 1151, 2782, 4494, 4457, 354, 2046, 1567, 4138, 1879, 4221, 4744, 2958, 3671, 4017, 1626, 948, 200, 2882, 3691, 3922, 2772, 2332, 1097, 3244, 3, 1870, 4039, 4336, 586, 2488, 655, 2638, 1991, 1176, 1946, 472, 3755, 90, 4156, 46, 1304, 376, 1696, 3422, 1356, 1910, 3517, 553, 2939, 3174, 4361, 871, 9, 4591, 2006, 1671, 4769, 3829, 3978, 3513, 3880, 3109, 4891, 31, 1972, 4375, 720, 1839, 2707, 2955, 4343, 1331, 2120, 3464, 1846, 4225, 58, 660, 2158, 825, 1356, 759, 3477, 4841, 175, 2138, 335, 2723, 3339, 875, 2580, 3196, 994, 3168, 4732, 2640, 4096, 3465, 4988, 3266, 3888, 2180, 2754, 3212, 1753, 2286, 423, 3678, 381, 3802, 4940, 4388, 3532, 3922, 805, 230, 3322, 1590, 3407, 4516, 3404, 1632, 1757, 1170, 1373, 1572, 417, 1212, 397, 1613, 3593, 2446, 4342, 3356, 837, 60, 4256, 28, 455, 567, 1389, 4474, 4761, 3760, 880, 2582, 2287, 391, 178, 3829, 64, 3195, 2290]\n"
     ]
    }
   ],
   "source": [
    "print(b)"
   ]
  },
  {
   "cell_type": "code",
   "execution_count": 1,
   "metadata": {},
   "outputs": [
    {
     "name": "stdout",
     "output_type": "stream",
     "text": [
      "5 6\n"
     ]
    }
   ],
   "source": [
    "a = 5 \n",
    "b = 6\n",
    "print (a,b)"
   ]
  },
  {
   "cell_type": "markdown",
   "metadata": {},
   "source": [
    "# Mumber\n"
   ]
  },
  {
   "cell_type": "markdown",
   "metadata": {},
   "source": [
    "# int , float , complex\n"
   ]
  },
  {
   "cell_type": "code",
   "execution_count": 1,
   "metadata": {},
   "outputs": [
    {
     "name": "stdout",
     "output_type": "stream",
     "text": [
      "5\n",
      "5\n"
     ]
    }
   ],
   "source": [
    "b = 5 \n",
    "A = 5 \n",
    "print(b)\n",
    "print(A)"
   ]
  },
  {
   "cell_type": "code",
   "execution_count": 4,
   "metadata": {},
   "outputs": [
    {
     "name": "stdout",
     "output_type": "stream",
     "text": [
      "type of a = <class 'int'>\n",
      "type of a = <class 'int'>\n",
      "type of a = 1769434304\n",
      "type of a = 1769434304\n"
     ]
    }
   ],
   "source": [
    "print('type of a =',type(b))\n",
    "print('type of a =',type(A))\n",
    "print(\"type of a =\",id(b))\n",
    "print(\"type of a =\",id(A))"
   ]
  },
  {
   "cell_type": "code",
   "execution_count": 14,
   "metadata": {},
   "outputs": [
    {
     "name": "stdout",
     "output_type": "stream",
     "text": [
      "5 8 2\n",
      "5\n",
      "8\n",
      "2\n",
      "<class 'int'>\t<class 'int'>\t<class 'int'>\n"
     ]
    }
   ],
   "source": [
    "X = 5\n",
    "C = 8\n",
    "v = 2\n",
    "print (X,C,v)\n",
    "print (X,C,v,sep=\"\\n\")\n",
    "print(type(X),type(C),type(v),sep=\"\\t\")"
   ]
  },
  {
   "cell_type": "code",
   "execution_count": 17,
   "metadata": {},
   "outputs": [
    {
     "ename": "NameError",
     "evalue": "name 'a' is not defined",
     "output_type": "error",
     "traceback": [
      "\u001b[1;31m---------------------------------------------------------------------------\u001b[0m",
      "\u001b[1;31mNameError\u001b[0m                                 Traceback (most recent call last)",
      "\u001b[1;32m<ipython-input-17-29e2ddeeeccd>\u001b[0m in \u001b[0;36m<module>\u001b[1;34m()\u001b[0m\n\u001b[1;32m----> 1\u001b[1;33m \u001b[0mprint\u001b[0m\u001b[1;33m(\u001b[0m\u001b[0mdir\u001b[0m\u001b[1;33m(\u001b[0m\u001b[0ma\u001b[0m\u001b[1;33m)\u001b[0m\u001b[1;33m)\u001b[0m\u001b[1;33m\u001b[0m\u001b[0m\n\u001b[0m",
      "\u001b[1;31mNameError\u001b[0m: name 'a' is not defined"
     ]
    }
   ],
   "source": [
    "print(dir(a))\n"
   ]
  },
  {
   "cell_type": "code",
   "execution_count": 2,
   "metadata": {},
   "outputs": [
    {
     "ename": "NameError",
     "evalue": "name 'c' is not defined",
     "output_type": "error",
     "traceback": [
      "\u001b[1;31m---------------------------------------------------------------------------\u001b[0m",
      "\u001b[1;31mNameError\u001b[0m                                 Traceback (most recent call last)",
      "\u001b[1;32m<ipython-input-2-3e8546137583>\u001b[0m in \u001b[0;36m<module>\u001b[1;34m()\u001b[0m\n\u001b[1;32m----> 1\u001b[1;33m \u001b[0mprint\u001b[0m\u001b[1;33m(\u001b[0m\u001b[0mdir\u001b[0m\u001b[1;33m(\u001b[0m\u001b[0mc\u001b[0m\u001b[1;33m)\u001b[0m\u001b[1;33m)\u001b[0m\u001b[1;33m\u001b[0m\u001b[0m\n\u001b[0m",
      "\u001b[1;31mNameError\u001b[0m: name 'c' is not defined"
     ]
    }
   ],
   "source": [
    "print(dir(c))"
   ]
  },
  {
   "cell_type": "code",
   "execution_count": 21,
   "metadata": {},
   "outputs": [],
   "source": [
    "a = 5"
   ]
  },
  {
   "cell_type": "code",
   "execution_count": 23,
   "metadata": {},
   "outputs": [
    {
     "data": {
      "text/plain": [
       "3"
      ]
     },
     "execution_count": 23,
     "metadata": {},
     "output_type": "execute_result"
    }
   ],
   "source": [
    "a.bit_length()"
   ]
  },
  {
   "cell_type": "code",
   "execution_count": 1,
   "metadata": {
    "scrolled": true
   },
   "outputs": [
    {
     "data": {
      "text/plain": [
       "4"
      ]
     },
     "execution_count": 1,
     "metadata": {},
     "output_type": "execute_result"
    }
   ],
   "source": [
    "b = 15\n",
    "b.bit_length()"
   ]
  },
  {
   "cell_type": "code",
   "execution_count": null,
   "metadata": {},
   "outputs": [],
   "source": [
    "a.__doc__\n"
   ]
  },
  {
   "cell_type": "code",
   "execution_count": 7,
   "metadata": {},
   "outputs": [
    {
     "ename": "AttributeError",
     "evalue": "'str' object has no attribute '_doc_'",
     "output_type": "error",
     "traceback": [
      "\u001b[1;31m---------------------------------------------------------------------------\u001b[0m",
      "\u001b[1;31mAttributeError\u001b[0m                            Traceback (most recent call last)",
      "\u001b[1;32m<ipython-input-7-9cf0205d8b2b>\u001b[0m in \u001b[0;36m<module>\u001b[1;34m()\u001b[0m\n\u001b[1;32m----> 1\u001b[1;33m \u001b[0ma\u001b[0m\u001b[1;33m.\u001b[0m\u001b[0m_doc_\u001b[0m\u001b[1;33m\u001b[0m\u001b[0m\n\u001b[0m",
      "\u001b[1;31mAttributeError\u001b[0m: 'str' object has no attribute '_doc_'"
     ]
    }
   ],
   "source": [
    "a._doc_"
   ]
  },
  {
   "cell_type": "code",
   "execution_count": 10,
   "metadata": {},
   "outputs": [
    {
     "name": "stdout",
     "output_type": "stream",
     "text": [
      "type of a = <class 'str'>\n",
      "hello world hello world\n",
      "\n",
      " \n",
      "type of a = 1562946567088\n",
      "hello world\n",
      "type of a = <class 'str'>\n",
      "type of a = 1562946567088\n",
      "hello world\n"
     ]
    }
   ],
   "source": [
    "a = ('hello world')\n",
    "b = a\n",
    "print('type of a =',type(a))\n",
    "print(a,b)\n",
    "print(end='\\n \\n')\n",
    "print(\"type of a =\",id(a))\n",
    "\n",
    "print(b)\n",
    "print(\"type of a =\",type(b))\n",
    "print('type of a =',id(b))\n",
    "print(b)"
   ]
  },
  {
   "cell_type": "code",
   "execution_count": 13,
   "metadata": {},
   "outputs": [
    {
     "name": "stdout",
     "output_type": "stream",
     "text": [
      "uncle\"s\n"
     ]
    }
   ],
   "source": [
    "print('uncle\"s')"
   ]
  },
  {
   "cell_type": "code",
   "execution_count": 15,
   "metadata": {},
   "outputs": [
    {
     "name": "stdout",
     "output_type": "stream",
     "text": [
      "uncle's\n"
     ]
    }
   ],
   "source": [
    "print(\"uncle's\")"
   ]
  },
  {
   "cell_type": "code",
   "execution_count": 19,
   "metadata": {},
   "outputs": [
    {
     "name": "stdout",
     "output_type": "stream",
     "text": [
      "\\\\\n"
     ]
    }
   ],
   "source": [
    "print(\"\\\\\\\\\")"
   ]
  },
  {
   "cell_type": "code",
   "execution_count": 23,
   "metadata": {},
   "outputs": [
    {
     "name": "stdout",
     "output_type": "stream",
     "text": [
      " raj \t dinu \t naresh\n"
     ]
    }
   ],
   "source": [
    "print(' raj \\t dinu \\t naresh')"
   ]
  },
  {
   "cell_type": "code",
   "execution_count": 24,
   "metadata": {},
   "outputs": [
    {
     "name": "stdout",
     "output_type": "stream",
     "text": [
      "raj \n",
      " nuh\n"
     ]
    }
   ],
   "source": [
    "print('raj \\n nuh')"
   ]
  },
  {
   "cell_type": "code",
   "execution_count": 38,
   "metadata": {},
   "outputs": [
    {
     "name": "stdout",
     "output_type": "stream",
     "text": [
      "randinudgd\n"
     ]
    }
   ],
   "source": [
    "print('ran' + 'dinudgd')"
   ]
  },
  {
   "cell_type": "code",
   "execution_count": 37,
   "metadata": {},
   "outputs": [
    {
     "name": "stdout",
     "output_type": "stream",
     "text": [
      "python is teach by ajay yadav\n"
     ]
    }
   ],
   "source": [
    "print('python is teach by' + ' ajay yadav')"
   ]
  },
  {
   "cell_type": "code",
   "execution_count": 43,
   "metadata": {},
   "outputs": [
    {
     "data": {
      "text/plain": [
       "'hellohellohellohellohello'"
      ]
     },
     "execution_count": 43,
     "metadata": {},
     "output_type": "execute_result"
    }
   ],
   "source": [
    "a = \"hello\"\n",
    "a*5"
   ]
  },
  {
   "cell_type": "code",
   "execution_count": 45,
   "metadata": {},
   "outputs": [
    {
     "name": "stdout",
     "output_type": "stream",
     "text": [
      "['__add__', '__class__', '__contains__', '__delattr__', '__dir__', '__doc__', '__eq__', '__format__', '__ge__', '__getattribute__', '__getitem__', '__getnewargs__', '__gt__', '__hash__', '__init__', '__init_subclass__', '__iter__', '__le__', '__len__', '__lt__', '__mod__', '__mul__', '__ne__', '__new__', '__reduce__', '__reduce_ex__', '__repr__', '__rmod__', '__rmul__', '__setattr__', '__sizeof__', '__str__', '__subclasshook__', 'capitalize', 'casefold', 'center', 'count', 'encode', 'endswith', 'expandtabs', 'find', 'format', 'format_map', 'index', 'isalnum', 'isalpha', 'isdecimal', 'isdigit', 'isidentifier', 'islower', 'isnumeric', 'isprintable', 'isspace', 'istitle', 'isupper', 'join', 'ljust', 'lower', 'lstrip', 'maketrans', 'partition', 'replace', 'rfind', 'rindex', 'rjust', 'rpartition', 'rsplit', 'rstrip', 'split', 'splitlines', 'startswith', 'strip', 'swapcase', 'title', 'translate', 'upper', 'zfill']\n"
     ]
    }
   ],
   "source": [
    "print(dir(\"hello\"))"
   ]
  },
  {
   "cell_type": "code",
   "execution_count": 54,
   "metadata": {},
   "outputs": [
    {
     "name": "stdout",
     "output_type": "stream",
     "text": [
      "assnd asdn assns d\n"
     ]
    }
   ],
   "source": [
    "a = (\"assnd asdn assns d\")\n",
    "x = a\n",
    "print(x)"
   ]
  },
  {
   "cell_type": "code",
   "execution_count": 57,
   "metadata": {},
   "outputs": [
    {
     "name": "stdout",
     "output_type": "stream",
     "text": [
      "a = 3\n",
      "b = 6\n",
      "c = 3\n",
      "d = 3\n",
      "totl = 15\n"
     ]
    }
   ],
   "source": [
    "a = x.count('a')\n",
    "b = x.count('s')\n",
    "c = x.count('n')\n",
    "d = x.count('d')\n",
    "#print(\"end = \",\\n)\n",
    "print(\"a =\",a)\n",
    "print(\"b =\",b)\n",
    "print(\"c =\",c)\n",
    "print(\"d =\",d)\n",
    "print(\"totl =\",a+b+c+d)"
   ]
  },
  {
   "cell_type": "code",
   "execution_count": 58,
   "metadata": {},
   "outputs": [
    {
     "name": "stdout",
     "output_type": "stream",
     "text": [
      "['__add__', '__class__', '__contains__', '__delattr__', '__dir__', '__doc__', '__eq__', '__format__', '__ge__', '__getattribute__', '__getitem__', '__getnewargs__', '__gt__', '__hash__', '__init__', '__init_subclass__', '__iter__', '__le__', '__len__', '__lt__', '__mod__', '__mul__', '__ne__', '__new__', '__reduce__', '__reduce_ex__', '__repr__', '__rmod__', '__rmul__', '__setattr__', '__sizeof__', '__str__', '__subclasshook__', 'capitalize', 'casefold', 'center', 'count', 'encode', 'endswith', 'expandtabs', 'find', 'format', 'format_map', 'index', 'isalnum', 'isalpha', 'isdecimal', 'isdigit', 'isidentifier', 'islower', 'isnumeric', 'isprintable', 'isspace', 'istitle', 'isupper', 'join', 'ljust', 'lower', 'lstrip', 'maketrans', 'partition', 'replace', 'rfind', 'rindex', 'rjust', 'rpartition', 'rsplit', 'rstrip', 'split', 'splitlines', 'startswith', 'strip', 'swapcase', 'title', 'translate', 'upper', 'zfill']\n"
     ]
    }
   ],
   "source": [
    "print(dir(str))"
   ]
  },
  {
   "cell_type": "code",
   "execution_count": 59,
   "metadata": {},
   "outputs": [
    {
     "name": "stdout",
     "output_type": "stream",
     "text": [
      "hello world\n",
      "l r\n"
     ]
    }
   ],
   "source": [
    "a = 'hello world'\n",
    "print(a)\n",
    "print(a[2:10:3])"
   ]
  },
  {
   "cell_type": "code",
   "execution_count": 1,
   "metadata": {},
   "outputs": [],
   "source": [
    "a = 'jai \\t nagin \\t ji \\t ki '"
   ]
  },
  {
   "cell_type": "code",
   "execution_count": 2,
   "metadata": {},
   "outputs": [
    {
     "data": {
      "text/plain": [
       "'jai \\t nagin \\t ji \\t ki '"
      ]
     },
     "execution_count": 2,
     "metadata": {},
     "output_type": "execute_result"
    }
   ],
   "source": [
    "a\n"
   ]
  },
  {
   "cell_type": "code",
   "execution_count": 3,
   "metadata": {},
   "outputs": [
    {
     "name": "stdout",
     "output_type": "stream",
     "text": [
      "jai                                      nagin                                   ji                                      ki \n"
     ]
    }
   ],
   "source": [
    "print(a.expandtabs(40))"
   ]
  },
  {
   "cell_type": "code",
   "execution_count": 4,
   "metadata": {},
   "outputs": [],
   "source": [
    "a = 'are dog and dog and cats are cat owesem so cute '\n"
   ]
  },
  {
   "cell_type": "code",
   "execution_count": 5,
   "metadata": {},
   "outputs": [
    {
     "data": {
      "text/plain": [
       "'are dog and dog and cats are cat owesem so cute '"
      ]
     },
     "execution_count": 5,
     "metadata": {},
     "output_type": "execute_result"
    }
   ],
   "source": [
    "a"
   ]
  },
  {
   "cell_type": "code",
   "execution_count": 11,
   "metadata": {},
   "outputs": [
    {
     "data": {
      "text/plain": [
       "12"
      ]
     },
     "execution_count": 11,
     "metadata": {},
     "output_type": "execute_result"
    }
   ],
   "source": [
    "a.find('dog',5)"
   ]
  },
  {
   "cell_type": "code",
   "execution_count": 15,
   "metadata": {},
   "outputs": [
    {
     "name": "stdout",
     "output_type": "stream",
     "text": [
      "enter your name : aa\n",
      "enter your proffesion : a\n",
      "awas good person and he has good knowlege of aa\n"
     ]
    }
   ],
   "source": [
    "x = input('enter your name : ')\n",
    "y = input('enter your proffesion : ')\n",
    "z = \"{}was good person and he has good knowlege of {}\".format(y,x)\n",
    "print(z)"
   ]
  },
  {
   "cell_type": "code",
   "execution_count": 21,
   "metadata": {},
   "outputs": [
    {
     "name": "stdout",
     "output_type": "stream",
     "text": [
      "enter your name : ww\n",
      "enter your proffesion : wa\n",
      " wawes good person and he has good knowlege of ww\n"
     ]
    }
   ],
   "source": [
    "x = input('enter your name : ')\n",
    "y = input('enter your proffesion : ')\n",
    "z = f\" {y}wes good person and he has good knowlege of {x}\"\n",
    "print(z)"
   ]
  },
  {
   "cell_type": "code",
   "execution_count": 27,
   "metadata": {},
   "outputs": [
    {
     "name": "stdout",
     "output_type": "stream",
     "text": [
      "my fiste name dinu my laste name is dinesh\n"
     ]
    }
   ],
   "source": [
    "a = {'a':'dinu','b':'dinesh'}\n",
    "b = \"my fiste name {a} my laste name is {b}\".format_map(a)\n",
    "print(b)"
   ]
  },
  {
   "cell_type": "code",
   "execution_count": 29,
   "metadata": {},
   "outputs": [
    {
     "data": {
      "text/plain": [
       "14"
      ]
     },
     "execution_count": 29,
     "metadata": {},
     "output_type": "execute_result"
    }
   ],
   "source": [
    "b.index('dinu')"
   ]
  },
  {
   "cell_type": "code",
   "execution_count": 30,
   "metadata": {},
   "outputs": [
    {
     "data": {
      "text/plain": [
       "False"
      ]
     },
     "execution_count": 30,
     "metadata": {},
     "output_type": "execute_result"
    }
   ],
   "source": [
    "b.isalnum()"
   ]
  },
  {
   "cell_type": "code",
   "execution_count": 31,
   "metadata": {},
   "outputs": [
    {
     "data": {
      "text/plain": [
       "False"
      ]
     },
     "execution_count": 31,
     "metadata": {},
     "output_type": "execute_result"
    }
   ],
   "source": [
    "b.isalnum()"
   ]
  },
  {
   "cell_type": "code",
   "execution_count": 37,
   "metadata": {},
   "outputs": [
    {
     "data": {
      "text/plain": [
       "True"
      ]
     },
     "execution_count": 37,
     "metadata": {},
     "output_type": "execute_result"
    }
   ],
   "source": [
    "b = \"hello123\"\n",
    "b.isalnum()"
   ]
  },
  {
   "cell_type": "code",
   "execution_count": 38,
   "metadata": {},
   "outputs": [
    {
     "data": {
      "text/plain": [
       "<function str.isalnum>"
      ]
     },
     "execution_count": 38,
     "metadata": {},
     "output_type": "execute_result"
    }
   ],
   "source": [
    "b.isalnum"
   ]
  },
  {
   "cell_type": "code",
   "execution_count": null,
   "metadata": {},
   "outputs": [],
   "source": []
  },
  {
   "cell_type": "code",
   "execution_count": 39,
   "metadata": {},
   "outputs": [
    {
     "data": {
      "text/plain": [
       "'hello123'"
      ]
     },
     "execution_count": 39,
     "metadata": {},
     "output_type": "execute_result"
    }
   ],
   "source": [
    "b"
   ]
  },
  {
   "cell_type": "code",
   "execution_count": 47,
   "metadata": {},
   "outputs": [
    {
     "name": "stdout",
     "output_type": "stream",
     "text": [
      "enter anything : asa\n",
      "'asa'\n",
      "'asa'\n",
      "'asa'\n",
      "'asa'\n"
     ]
    }
   ],
   "source": [
    "a = input('enter anything: ')\n",
    "print('{!a}'.format(a))\n",
    "print('{!a}'.format(a.rstrip()))\n",
    "print('{!a}'.format(a.lstrip()))\n",
    "print('{!a}'.format(a.strip()))"
   ]
  },
  {
   "cell_type": "code",
   "execution_count": 49,
   "metadata": {},
   "outputs": [
    {
     "name": "stdout",
     "output_type": "stream",
     "text": [
      "Enter anything :                         dinesh\n",
      "'                        dinesh'\n",
      "'                        dinesh'\n",
      "'dinesh'\n",
      "'dinesh'\n"
     ]
    }
   ],
   "source": [
    "a = input('Enter anything : ')\n",
    "print('{!r}'.format(a))\n",
    "print('{!r}'.format(a.rstrip()))\n",
    "print('{!r}'.format(a.lstrip()))\n",
    "print('{!r}'.format(a.strip()))"
   ]
  },
  {
   "cell_type": "code",
   "execution_count": 50,
   "metadata": {},
   "outputs": [
    {
     "ename": "SyntaxError",
     "evalue": "invalid syntax (<ipython-input-50-b4ce96ddcee0>, line 1)",
     "output_type": "error",
     "traceback": [
      "\u001b[1;36m  File \u001b[1;32m\"<ipython-input-50-b4ce96ddcee0>\"\u001b[1;36m, line \u001b[1;32m1\u001b[0m\n\u001b[1;33m    a.\u001b[0m\n\u001b[1;37m      ^\u001b[0m\n\u001b[1;31mSyntaxError\u001b[0m\u001b[1;31m:\u001b[0m invalid syntax\n"
     ]
    }
   ],
   "source": [
    "a."
   ]
  },
  {
   "cell_type": "code",
   "execution_count": 51,
   "metadata": {},
   "outputs": [
    {
     "data": {
      "text/plain": [
       "'                        dinesh'"
      ]
     },
     "execution_count": 51,
     "metadata": {},
     "output_type": "execute_result"
    }
   ],
   "source": [
    "a"
   ]
  },
  {
   "cell_type": "code",
   "execution_count": 55,
   "metadata": {},
   "outputs": [
    {
     "data": {
      "text/plain": [
       "'i_am_coder'"
      ]
     },
     "execution_count": 55,
     "metadata": {},
     "output_type": "execute_result"
    }
   ],
   "source": [
    "'i am coder'.replace(\" \",\"_\")"
   ]
  },
  {
   "cell_type": "code",
   "execution_count": 57,
   "metadata": {},
   "outputs": [
    {
     "data": {
      "text/plain": [
       "14"
      ]
     },
     "execution_count": 57,
     "metadata": {},
     "output_type": "execute_result"
    }
   ],
   "source": [
    "a = \"good for good for\"\n",
    "a.rfind('for')"
   ]
  },
  {
   "cell_type": "code",
   "execution_count": 58,
   "metadata": {},
   "outputs": [
    {
     "data": {
      "text/plain": [
       "('', 'good', ' for good for')"
      ]
     },
     "execution_count": 58,
     "metadata": {},
     "output_type": "execute_result"
    }
   ],
   "source": [
    "a.partition('good')"
   ]
  },
  {
   "cell_type": "code",
   "execution_count": 60,
   "metadata": {},
   "outputs": [
    {
     "data": {
      "text/plain": [
       "['good', 'for', 'good', 'for']"
      ]
     },
     "execution_count": 60,
     "metadata": {},
     "output_type": "execute_result"
    }
   ],
   "source": [
    "b = a.split()\n",
    "b\n"
   ]
  },
  {
   "cell_type": "code",
   "execution_count": 61,
   "metadata": {},
   "outputs": [
    {
     "data": {
      "text/plain": [
       "'good*******for*******good*******for'"
      ]
     },
     "execution_count": 61,
     "metadata": {},
     "output_type": "execute_result"
    }
   ],
   "source": [
    "\"*******\".join(b)"
   ]
  },
  {
   "cell_type": "code",
   "execution_count": 62,
   "metadata": {},
   "outputs": [
    {
     "name": "stdout",
     "output_type": "stream",
     "text": [
      "['__add__', '__class__', '__contains__', '__delattr__', '__dir__', '__doc__', '__eq__', '__format__', '__ge__', '__getattribute__', '__getitem__', '__getnewargs__', '__gt__', '__hash__', '__init__', '__init_subclass__', '__iter__', '__le__', '__len__', '__lt__', '__mod__', '__mul__', '__ne__', '__new__', '__reduce__', '__reduce_ex__', '__repr__', '__rmod__', '__rmul__', '__setattr__', '__sizeof__', '__str__', '__subclasshook__', 'capitalize', 'casefold', 'center', 'count', 'encode', 'endswith', 'expandtabs', 'find', 'format', 'format_map', 'index', 'isalnum', 'isalpha', 'isdecimal', 'isdigit', 'isidentifier', 'islower', 'isnumeric', 'isprintable', 'isspace', 'istitle', 'isupper', 'join', 'ljust', 'lower', 'lstrip', 'maketrans', 'partition', 'replace', 'rfind', 'rindex', 'rjust', 'rpartition', 'rsplit', 'rstrip', 'split', 'splitlines', 'startswith', 'strip', 'swapcase', 'title', 'translate', 'upper', 'zfill']\n"
     ]
    }
   ],
   "source": [
    "print(dir(str))"
   ]
  },
  {
   "cell_type": "code",
   "execution_count": 65,
   "metadata": {},
   "outputs": [
    {
     "data": {
      "text/plain": [
       "'hello world'"
      ]
     },
     "execution_count": 65,
     "metadata": {},
     "output_type": "execute_result"
    }
   ],
   "source": [
    "a = \"Hello world\"\n",
    "b = a.lower()\n",
    "b"
   ]
  },
  {
   "cell_type": "code",
   "execution_count": 66,
   "metadata": {},
   "outputs": [
    {
     "data": {
      "text/plain": [
       "'HELLO WORLD'"
      ]
     },
     "execution_count": 66,
     "metadata": {},
     "output_type": "execute_result"
    }
   ],
   "source": [
    "b.upper()"
   ]
  },
  {
   "cell_type": "code",
   "execution_count": 67,
   "metadata": {},
   "outputs": [],
   "source": [
    "i = 'whta is the use of python in datascienter'\n",
    "i =  i.title()"
   ]
  },
  {
   "cell_type": "code",
   "execution_count": 68,
   "metadata": {},
   "outputs": [
    {
     "data": {
      "text/plain": [
       "'Whta Is The Use Of Python In Datascienter'"
      ]
     },
     "execution_count": 68,
     "metadata": {},
     "output_type": "execute_result"
    }
   ],
   "source": [
    "i"
   ]
  },
  {
   "cell_type": "code",
   "execution_count": 70,
   "metadata": {},
   "outputs": [
    {
     "data": {
      "text/plain": [
       "'Hello world'"
      ]
     },
     "execution_count": 70,
     "metadata": {},
     "output_type": "execute_result"
    }
   ],
   "source": [
    "str(a)"
   ]
  },
  {
   "cell_type": "code",
   "execution_count": 87,
   "metadata": {},
   "outputs": [
    {
     "data": {
      "text/plain": [
       "{119: 104, 104: 119, 32: None}"
      ]
     },
     "execution_count": 87,
     "metadata": {},
     "output_type": "execute_result"
    }
   ],
   "source": [
    "s = 'wh' # string to change\n",
    "s1 = 'hw' # in what it to change\n",
    "s2 = ' '\n",
    "table = p.maketrans(s,s1,s2)\n",
    "table\n",
    "\n"
   ]
  },
  {
   "cell_type": "raw",
   "metadata": {},
   "source": [
    "p = 'wello horld'"
   ]
  },
  {
   "cell_type": "code",
   "execution_count": 74,
   "metadata": {},
   "outputs": [
    {
     "data": {
      "text/plain": [
       "{119: 104, 104: 119, 32: None}"
      ]
     },
     "execution_count": 74,
     "metadata": {},
     "output_type": "execute_result"
    }
   ],
   "source": [
    "s = 'wh' # string to change\n",
    "s1 = 'hw' # in what it to change\n",
    "s2 = ' '\n",
    "table = p.maketrans(s,s1,s2)\n",
    "table"
   ]
  },
  {
   "cell_type": "code",
   "execution_count": 75,
   "metadata": {},
   "outputs": [
    {
     "data": {
      "text/plain": [
       "'helloworld'"
      ]
     },
     "execution_count": 75,
     "metadata": {},
     "output_type": "execute_result"
    }
   ],
   "source": [
    "p.translate(table)"
   ]
  },
  {
   "cell_type": "code",
   "execution_count": 86,
   "metadata": {},
   "outputs": [
    {
     "data": {
      "text/plain": [
       "'i*****am*****coder'"
      ]
     },
     "execution_count": 86,
     "metadata": {},
     "output_type": "execute_result"
    }
   ],
   "source": [
    "'i am coder'.replace(\" \",'*****')"
   ]
  },
  {
   "cell_type": "code",
   "execution_count": 88,
   "metadata": {},
   "outputs": [
    {
     "data": {
      "text/plain": [
       "'i************am************coder'"
      ]
     },
     "execution_count": 88,
     "metadata": {},
     "output_type": "execute_result"
    }
   ],
   "source": [
    "'i am coder'.replace(' ','************')\n"
   ]
  },
  {
   "cell_type": "code",
   "execution_count": 89,
   "metadata": {},
   "outputs": [
    {
     "data": {
      "text/plain": [
       "'wa'"
      ]
     },
     "execution_count": 89,
     "metadata": {},
     "output_type": "execute_result"
    }
   ],
   "source": [
    "y\n"
   ]
  },
  {
   "cell_type": "code",
   "execution_count": 91,
   "metadata": {},
   "outputs": [
    {
     "name": "stdout",
     "output_type": "stream",
     "text": [
      "<class 'list'>\n"
     ]
    }
   ],
   "source": [
    "a = ['dinesh','raj','roy','rehan']\n",
    "print(type(a))"
   ]
  },
  {
   "cell_type": "code",
   "execution_count": 94,
   "metadata": {},
   "outputs": [
    {
     "name": "stdout",
     "output_type": "stream",
     "text": [
      "[1, 2, 3, 4, 5, 6, 8]\n",
      "['a', 'b', 'z', 'c', 's', 'e', 'f']\n"
     ]
    }
   ],
   "source": [
    "x = [1,2,3,4,5,6,8]\n",
    "y = ['a','b','z','c','s','e','f']\n",
    "print(x,y,sep='\\n')"
   ]
  },
  {
   "cell_type": "code",
   "execution_count": 96,
   "metadata": {},
   "outputs": [
    {
     "name": "stdout",
     "output_type": "stream",
     "text": [
      "<class 'list'>\n",
      "<class 'list'>\n"
     ]
    }
   ],
   "source": [
    "print(type(x))\n",
    "print(type(y))"
   ]
  },
  {
   "cell_type": "code",
   "execution_count": 97,
   "metadata": {},
   "outputs": [],
   "source": [
    "x = list(zip(x,y))"
   ]
  },
  {
   "cell_type": "code",
   "execution_count": 98,
   "metadata": {},
   "outputs": [
    {
     "name": "stdout",
     "output_type": "stream",
     "text": [
      "[(1, 'a'), (2, 'b'), (3, 'z'), (4, 'c'), (5, 's'), (6, 'e'), (8, 'f')]\n"
     ]
    }
   ],
   "source": [
    "print(x)"
   ]
  },
  {
   "cell_type": "code",
   "execution_count": 99,
   "metadata": {},
   "outputs": [
    {
     "name": "stdout",
     "output_type": "stream",
     "text": [
      "(1, 'a')\n",
      "(2, 'b')\n",
      "(3, 'z')\n",
      "(4, 'c')\n",
      "(5, 's')\n",
      "(6, 'e')\n",
      "(8, 'f')\n"
     ]
    }
   ],
   "source": [
    "for var in (x):\n",
    "      print(var)"
   ]
  },
  {
   "cell_type": "code",
   "execution_count": 100,
   "metadata": {},
   "outputs": [
    {
     "name": "stdout",
     "output_type": "stream",
     "text": [
      "(0, 'a')\n",
      "(1, 'b')\n",
      "(2, 'z')\n",
      "(3, 'c')\n",
      "(4, 's')\n",
      "(5, 'e')\n",
      "(6, 'f')\n"
     ]
    }
   ],
   "source": [
    "for var in enumerate(y):\n",
    "    print(var)"
   ]
  },
  {
   "cell_type": "code",
   "execution_count": 101,
   "metadata": {},
   "outputs": [
    {
     "name": "stdout",
     "output_type": "stream",
     "text": [
      "ello world\n"
     ]
    }
   ],
   "source": [
    "a = 'hello world'\n",
    "print(a[-10:100])\n"
   ]
  },
  {
   "cell_type": "code",
   "execution_count": 102,
   "metadata": {},
   "outputs": [
    {
     "name": "stdout",
     "output_type": "stream",
     "text": [
      "ello worl\n"
     ]
    }
   ],
   "source": [
    "a = 'hello world'\n",
    "print(a[-10:10])"
   ]
  },
  {
   "cell_type": "code",
   "execution_count": 103,
   "metadata": {},
   "outputs": [
    {
     "name": "stdout",
     "output_type": "stream",
     "text": [
      "eh\n"
     ]
    }
   ],
   "source": [
    "print(a[-10:-100:-1])\n"
   ]
  },
  {
   "cell_type": "code",
   "execution_count": 104,
   "metadata": {},
   "outputs": [
    {
     "name": "stdout",
     "output_type": "stream",
     "text": [
      "[(1, 'a'), (2, 'b'), (3, 'z'), (4, 'c'), (5, 's'), (6, 'e'), (8, 'f')]\n"
     ]
    }
   ],
   "source": [
    "print(x)"
   ]
  },
  {
   "cell_type": "code",
   "execution_count": 108,
   "metadata": {},
   "outputs": [
    {
     "name": "stdout",
     "output_type": "stream",
     "text": [
      "[0, 1, 2, 3, 4, 5, 6, 7, 8, 9, 10, 11, 12, 13, 14, 15, 16, 17, 18, 19, 20, 21, 22, 23, 24, 25, 26, 27, 28, 29, 30, 31, 32, 33, 34, 35, 36, 37, 38, 39, 40, 41, 42, 43, 44, 45, 46, 47, 48, 49, 50, 51, 52, 53, 54, 55, 56, 57, 58, 59, 60, 61, 62, 63, 64, 65, 66, 67, 68, 69, 70, 71, 72, 73, 74, 75, 76, 77, 78, 79, 80, 81, 82, 83, 84, 85, 86, 87, 88, 89, 90, 91, 92, 93, 94, 95, 96, 97, 98, 99]\n"
     ]
    }
   ],
   "source": [
    "num = [var for var in range(100)]\n",
    "print(num)"
   ]
  },
  {
   "cell_type": "code",
   "execution_count": 109,
   "metadata": {},
   "outputs": [
    {
     "name": "stdout",
     "output_type": "stream",
     "text": [
      "[0, 2, 4, 6, 8, 10, 12, 14, 16, 18, 20, 22, 24, 26, 28, 30, 32, 34, 36, 38, 40, 42, 44, 46, 48, 50, 52, 54, 56, 58, 60, 62, 64, 66, 68, 70, 72, 74, 76, 78, 80, 82, 84, 86, 88, 90, 92, 94, 96, 98]\n",
      "\n",
      "[1, 3, 5, 7, 9, 11, 13, 15, 17, 19, 21, 23, 25, 27, 29, 31, 33, 35, 37, 39, 41, 43, 45, 47, 49, 51, 53, 55, 57, 59, 61, 63, 65, 67, 69, 71, 73, 75, 77, 79, 81, 83, 85, 87, 89, 91, 93, 95, 97, 99]\n",
      "\n",
      "[16, 20, 24, 28, 32, 36, 40, 44, 48, 52, 56, 60, 64, 68, 72, 76, 80, 84, 88, 92, 96]\n",
      "\n"
     ]
    }
   ],
   "source": [
    "even  = num[::2]\n",
    "odd = num[1::2]\n",
    "ran = num[4::4][3:]\n",
    "print(even,end='\\n\\n')\n",
    "print(odd,end='\\n\\n')\n",
    "print(ran,end='\\n\\n')"
   ]
  },
  {
   "cell_type": "code",
   "execution_count": 114,
   "metadata": {},
   "outputs": [
    {
     "name": "stdout",
     "output_type": "stream",
     "text": [
      "[0, 2, 4, 6, 8, 10, 12, 14, 16, 18, 20, 22, 24, 26, 28, 30, 32, 34, 36, 38, 40, 42, 44, 46, 48, 50, 52, 54, 56, 58, 60, 62, 64, 66, 68, 70, 72, 74, 76, 78, 80, 82, 84, 86, 88, 90, 92, 94, 96, 98]\n",
      "\n",
      "[1, 3, 5, 7, 9, 11, 13, 15, 17, 19, 21, 23, 25, 27, 29, 31, 33, 35, 37, 39, 41, 43, 45, 47, 49, 51, 53, 55, 57, 59, 61, 63, 65, 67, 69, 71, 73, 75, 77, 79, 81, 83, 85, 87, 89, 91, 93, 95, 97, 99]\n",
      "\n",
      "[16, 20, 24, 28, 32, 36, 40, 44, 48, 52, 56, 60, 64, 68, 72, 76, 80, 84, 88, 92, 96]\n",
      "\n"
     ]
    }
   ],
   "source": [
    "even  = num[::2]\n",
    "odd = num[1::2]\n",
    "ran = num[4::4][3:]\n",
    "print(even,end='\\n\\n')\n",
    "print(odd,end='\\n\\n')\n",
    "print(ran,end='\\n\\n')"
   ]
  },
  {
   "cell_type": "code",
   "execution_count": 118,
   "metadata": {},
   "outputs": [
    {
     "data": {
      "text/plain": [
       "[16, 24, 32, 40, 48, 56, 64, 72, 80, 88, 96]"
      ]
     },
     "execution_count": 118,
     "metadata": {},
     "output_type": "execute_result"
    }
   ],
   "source": [
    "num[4::4][3::2]"
   ]
  },
  {
   "cell_type": "code",
   "execution_count": 119,
   "metadata": {},
   "outputs": [
    {
     "name": "stdout",
     "output_type": "stream",
     "text": [
      "['__add__', '__class__', '__contains__', '__delattr__', '__delitem__', '__dir__', '__doc__', '__eq__', '__format__', '__ge__', '__getattribute__', '__getitem__', '__gt__', '__hash__', '__iadd__', '__imul__', '__init__', '__init_subclass__', '__iter__', '__le__', '__len__', '__lt__', '__mul__', '__ne__', '__new__', '__reduce__', '__reduce_ex__', '__repr__', '__reversed__', '__rmul__', '__setattr__', '__setitem__', '__sizeof__', '__str__', '__subclasshook__', 'append', 'clear', 'copy', 'count', 'extend', 'index', 'insert', 'pop', 'remove', 'reverse', 'sort']\n"
     ]
    }
   ],
   "source": [
    "print(dir(list))"
   ]
  },
  {
   "cell_type": "code",
   "execution_count": 120,
   "metadata": {},
   "outputs": [
    {
     "name": "stdout",
     "output_type": "stream",
     "text": [
      "[1, 2, 3, 4, 5, 6, 7, 8, 'a', 'b', 'c', 'd', 'e', 'f']\n"
     ]
    }
   ],
   "source": [
    "a = [1,2,3,4,5,6,7,8] + ['a','b','c','d','e','f']  # addition of list\n",
    "print(a)"
   ]
  },
  {
   "cell_type": "code",
   "execution_count": 121,
   "metadata": {},
   "outputs": [
    {
     "name": "stdout",
     "output_type": "stream",
     "text": [
      "1\n",
      "4\n",
      "9\n",
      "16\n",
      "25\n",
      "36\n",
      "49\n",
      "64\n",
      "81\n"
     ]
    }
   ],
   "source": [
    "b = [1,2,3,4,5,6,7,8,9]\n",
    "for var in b:\n",
    "    print(var**2)"
   ]
  },
  {
   "cell_type": "code",
   "execution_count": 122,
   "metadata": {},
   "outputs": [
    {
     "name": "stdout",
     "output_type": "stream",
     "text": [
      "1\n",
      "8\n",
      "27\n",
      "64\n",
      "125\n",
      "216\n",
      "343\n",
      "512\n",
      "729\n"
     ]
    }
   ],
   "source": [
    "c = [11,1,111,111,11,255]\n",
    "for var in b :\n",
    "    print(var**3)"
   ]
  },
  {
   "cell_type": "code",
   "execution_count": 124,
   "metadata": {},
   "outputs": [
    {
     "name": "stdout",
     "output_type": "stream",
     "text": [
      "[1, 2, 3, 4, 5, 6, 7, 8, 9, 'ajay', 'dinesh']\n"
     ]
    }
   ],
   "source": [
    "b.append('dinesh')\n",
    "print(b)"
   ]
  },
  {
   "cell_type": "code",
   "execution_count": 125,
   "metadata": {},
   "outputs": [
    {
     "name": "stdout",
     "output_type": "stream",
     "text": [
      "[1, 2, 3, 4, 5, 6, 7, 8, 9, 'ajay', 'dinesh', ('aa', 'ss', 'aassa')]\n"
     ]
    }
   ],
   "source": [
    "b.append(('aa','ss','aassa'))\n",
    "print(b)"
   ]
  },
  {
   "cell_type": "code",
   "execution_count": 126,
   "metadata": {},
   "outputs": [
    {
     "data": {
      "text/plain": [
       "'aassa'"
      ]
     },
     "execution_count": 126,
     "metadata": {},
     "output_type": "execute_result"
    }
   ],
   "source": [
    "b[-1][2]"
   ]
  },
  {
   "cell_type": "code",
   "execution_count": 127,
   "metadata": {},
   "outputs": [
    {
     "data": {
      "text/plain": [
       "'inesh'"
      ]
     },
     "execution_count": 127,
     "metadata": {},
     "output_type": "execute_result"
    }
   ],
   "source": [
    "b[-2][1:]"
   ]
  },
  {
   "cell_type": "code",
   "execution_count": 128,
   "metadata": {},
   "outputs": [],
   "source": [
    "for var in range(10):\n",
    "    b.append(var)"
   ]
  },
  {
   "cell_type": "code",
   "execution_count": 129,
   "metadata": {},
   "outputs": [
    {
     "name": "stdout",
     "output_type": "stream",
     "text": [
      "[1, 2, 3, 4, 5, 6, 7, 8, 9, 'ajay', 'dinesh', ('aa', 'ss', 'aassa'), 0, 1, 2, 3, 4, 5, 6, 7, 8, 9]\n"
     ]
    }
   ],
   "source": [
    "print(b)"
   ]
  },
  {
   "cell_type": "code",
   "execution_count": 130,
   "metadata": {},
   "outputs": [
    {
     "data": {
      "text/plain": [
       "[1,\n",
       " 2,\n",
       " 3,\n",
       " 4,\n",
       " 5,\n",
       " 6,\n",
       " 7,\n",
       " 8,\n",
       " 9,\n",
       " 'ajay',\n",
       " 'dinesh',\n",
       " ('aa', 'ss', 'aassa'),\n",
       " 0,\n",
       " 1,\n",
       " 2,\n",
       " 3,\n",
       " 4,\n",
       " 5,\n",
       " 6,\n",
       " 7,\n",
       " 8,\n",
       " 9]"
      ]
     },
     "execution_count": 130,
     "metadata": {},
     "output_type": "execute_result"
    }
   ],
   "source": [
    "b"
   ]
  },
  {
   "cell_type": "code",
   "execution_count": 131,
   "metadata": {},
   "outputs": [
    {
     "name": "stdout",
     "output_type": "stream",
     "text": [
      "[1, 2, 3, 4, 5, 6, 7, 8, 9, 'ajay', 'dinesh', ('aa', 'ss', 'aassa'), 0, 1, 2, 3, 4, 5, 6, 7, 8, 9]\n"
     ]
    }
   ],
   "source": [
    "print(b)"
   ]
  },
  {
   "cell_type": "code",
   "execution_count": 132,
   "metadata": {},
   "outputs": [
    {
     "data": {
      "text/plain": [
       "<function list.clear>"
      ]
     },
     "execution_count": 132,
     "metadata": {},
     "output_type": "execute_result"
    }
   ],
   "source": [
    "b.clear"
   ]
  },
  {
   "cell_type": "code",
   "execution_count": 133,
   "metadata": {},
   "outputs": [
    {
     "data": {
      "text/plain": [
       "<function print>"
      ]
     },
     "execution_count": 133,
     "metadata": {},
     "output_type": "execute_result"
    }
   ],
   "source": [
    "print"
   ]
  },
  {
   "cell_type": "code",
   "execution_count": 134,
   "metadata": {},
   "outputs": [
    {
     "data": {
      "text/plain": [
       "[1,\n",
       " 2,\n",
       " 3,\n",
       " 4,\n",
       " 5,\n",
       " 6,\n",
       " 7,\n",
       " 8,\n",
       " 9,\n",
       " 'ajay',\n",
       " 'dinesh',\n",
       " ('aa', 'ss', 'aassa'),\n",
       " 0,\n",
       " 1,\n",
       " 2,\n",
       " 3,\n",
       " 4,\n",
       " 5,\n",
       " 6,\n",
       " 7,\n",
       " 8,\n",
       " 9]"
      ]
     },
     "execution_count": 134,
     "metadata": {},
     "output_type": "execute_result"
    }
   ],
   "source": [
    "b"
   ]
  },
  {
   "cell_type": "code",
   "execution_count": 135,
   "metadata": {},
   "outputs": [],
   "source": [
    "b.clear()"
   ]
  },
  {
   "cell_type": "code",
   "execution_count": 136,
   "metadata": {},
   "outputs": [
    {
     "data": {
      "text/plain": [
       "[]"
      ]
     },
     "execution_count": 136,
     "metadata": {},
     "output_type": "execute_result"
    }
   ],
   "source": [
    "b"
   ]
  },
  {
   "cell_type": "code",
   "execution_count": 139,
   "metadata": {},
   "outputs": [
    {
     "ename": "NameError",
     "evalue": "name 'b_new' is not defined",
     "output_type": "error",
     "traceback": [
      "\u001b[1;31m---------------------------------------------------------------------------\u001b[0m",
      "\u001b[1;31mNameError\u001b[0m                                 Traceback (most recent call last)",
      "\u001b[1;32m<ipython-input-139-00033171043a>\u001b[0m in \u001b[0;36m<module>\u001b[1;34m()\u001b[0m\n\u001b[1;32m----> 1\u001b[1;33m \u001b[0mb_new\u001b[0m\u001b[1;33m\u001b[0m\u001b[0m\n\u001b[0m",
      "\u001b[1;31mNameError\u001b[0m: name 'b_new' is not defined"
     ]
    }
   ],
   "source": [
    "b_new"
   ]
  },
  {
   "cell_type": "code",
   "execution_count": 141,
   "metadata": {},
   "outputs": [
    {
     "ename": "NameError",
     "evalue": "name 'd_new' is not defined",
     "output_type": "error",
     "traceback": [
      "\u001b[1;31m---------------------------------------------------------------------------\u001b[0m",
      "\u001b[1;31mNameError\u001b[0m                                 Traceback (most recent call last)",
      "\u001b[1;32m<ipython-input-141-c526d4873dfa>\u001b[0m in \u001b[0;36m<module>\u001b[1;34m()\u001b[0m\n\u001b[1;32m----> 1\u001b[1;33m \u001b[0md_new\u001b[0m\u001b[1;33m\u001b[0m\u001b[0m\n\u001b[0m",
      "\u001b[1;31mNameError\u001b[0m: name 'd_new' is not defined"
     ]
    }
   ],
   "source": [
    "d_new"
   ]
  },
  {
   "cell_type": "code",
   "execution_count": 142,
   "metadata": {},
   "outputs": [
    {
     "ename": "NameError",
     "evalue": "name 'li' is not defined",
     "output_type": "error",
     "traceback": [
      "\u001b[1;31m---------------------------------------------------------------------------\u001b[0m",
      "\u001b[1;31mNameError\u001b[0m                                 Traceback (most recent call last)",
      "\u001b[1;32m<ipython-input-142-a6b754927a10>\u001b[0m in \u001b[0;36m<module>\u001b[1;34m()\u001b[0m\n\u001b[1;32m----> 1\u001b[1;33m \u001b[0mprint\u001b[0m\u001b[1;33m(\u001b[0m\u001b[0mli\u001b[0m\u001b[1;33m)\u001b[0m\u001b[1;33m\u001b[0m\u001b[0m\n\u001b[0m",
      "\u001b[1;31mNameError\u001b[0m: name 'li' is not defined"
     ]
    }
   ],
   "source": [
    "print(li)"
   ]
  },
  {
   "cell_type": "code",
   "execution_count": 143,
   "metadata": {},
   "outputs": [
    {
     "ename": "NameError",
     "evalue": "name 'b_new' is not defined",
     "output_type": "error",
     "traceback": [
      "\u001b[1;31m---------------------------------------------------------------------------\u001b[0m",
      "\u001b[1;31mNameError\u001b[0m                                 Traceback (most recent call last)",
      "\u001b[1;32m<ipython-input-143-00033171043a>\u001b[0m in \u001b[0;36m<module>\u001b[1;34m()\u001b[0m\n\u001b[1;32m----> 1\u001b[1;33m \u001b[0mb_new\u001b[0m\u001b[1;33m\u001b[0m\u001b[0m\n\u001b[0m",
      "\u001b[1;31mNameError\u001b[0m: name 'b_new' is not defined"
     ]
    }
   ],
   "source": [
    "b_new"
   ]
  },
  {
   "cell_type": "code",
   "execution_count": 1,
   "metadata": {},
   "outputs": [
    {
     "ename": "NameError",
     "evalue": "name 'li' is not defined",
     "output_type": "error",
     "traceback": [
      "\u001b[1;31m---------------------------------------------------------------------------\u001b[0m",
      "\u001b[1;31mNameError\u001b[0m                                 Traceback (most recent call last)",
      "\u001b[1;32m<ipython-input-1-0174b4e22415>\u001b[0m in \u001b[0;36m<module>\u001b[1;34m()\u001b[0m\n\u001b[1;32m----> 1\u001b[1;33m \u001b[0mli\u001b[0m\u001b[1;33m.\u001b[0m\u001b[0mcount\u001b[0m\u001b[1;33m(\u001b[0m\u001b[1;34m'ajay'\u001b[0m\u001b[1;33m)\u001b[0m\u001b[1;33m\u001b[0m\u001b[0m\n\u001b[0m",
      "\u001b[1;31mNameError\u001b[0m: name 'li' is not defined"
     ]
    }
   ],
   "source": [
    "li.count('ajay')"
   ]
  },
  {
   "cell_type": "code",
   "execution_count": 3,
   "metadata": {},
   "outputs": [
    {
     "data": {
      "text/plain": [
       "11"
      ]
     },
     "execution_count": 3,
     "metadata": {},
     "output_type": "execute_result"
    }
   ],
   "source": [
    "def a (x,y):\n",
    "    return(x+y)\n",
    "a (5,6)"
   ]
  },
  {
   "cell_type": "code",
   "execution_count": 4,
   "metadata": {},
   "outputs": [
    {
     "name": "stdout",
     "output_type": "stream",
     "text": [
      "1\n",
      "4\n",
      "9\n",
      "16\n",
      "25\n"
     ]
    }
   ],
   "source": [
    "c =1 \n",
    "while c <=5:\n",
    "    print(c**2)\n",
    "    c +=1"
   ]
  },
  {
   "cell_type": "code",
   "execution_count": null,
   "metadata": {},
   "outputs": [],
   "source": [
    "c = 1\n",
    "while c <= 10:\n",
    "    print(c)\n",
    "    if c % 2 ==0:\n",
    "        c += 2\n",
    "else:\n",
    "    c +=2\n",
    "    print(c)\n",
    "    "
   ]
  },
  {
   "cell_type": "code",
   "execution_count": null,
   "metadata": {},
   "outputs": [],
   "source": [
    "c = 1\n",
    "while c <= 10 :\n",
    "    print(c)\n",
    "    if c % 2 :\n",
    "        c += 3\n",
    "    else:\n",
    "    c += 2\n",
    "    c += 1\n",
    "    print(c)\n",
    "else\n",
    " print('di=o no')"
   ]
  },
  {
   "cell_type": "code",
   "execution_count": null,
   "metadata": {},
   "outputs": [],
   "source": [
    "c = 5\n",
    "while c < 0:\n",
    "    if c == 2:\n",
    "        print('by')\n",
    "        break\n",
    "    print(f'hello\"{c}')\n",
    "else:\n",
    "    print('ddd')"
   ]
  },
  {
   "cell_type": "code",
   "execution_count": null,
   "metadata": {},
   "outputs": [],
   "source": []
  }
 ],
 "metadata": {
  "kernelspec": {
   "display_name": "Python 3",
   "language": "python",
   "name": "python3"
  },
  "language_info": {
   "codemirror_mode": {
    "name": "ipython",
    "version": 3
   },
   "file_extension": ".py",
   "mimetype": "text/x-python",
   "name": "python",
   "nbconvert_exporter": "python",
   "pygments_lexer": "ipython3",
   "version": "3.6.5"
  }
 },
 "nbformat": 4,
 "nbformat_minor": 2
}
